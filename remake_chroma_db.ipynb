{
 "cells": [
  {
   "cell_type": "code",
   "execution_count": 6,
   "id": "6f8c0ae1-f974-46f3-ae88-8718bcc73230",
   "metadata": {
    "execution": {
     "iopub.execute_input": "2023-05-06T16:55:40.881039Z",
     "iopub.status.busy": "2023-05-06T16:55:40.880660Z",
     "iopub.status.idle": "2023-05-06T16:55:41.970277Z",
     "shell.execute_reply": "2023-05-06T16:55:41.969498Z",
     "shell.execute_reply.started": "2023-05-06T16:55:40.881010Z"
    },
    "tags": []
   },
   "outputs": [],
   "source": [
    "import os\n",
    "import json\n",
    "from src.seria.utils.text_preprocessor import TextPreprocessor\n",
    "from langchain.embeddings.openai import OpenAIEmbeddings\n",
    "from langchain.text_splitter import TokenTextSplitter\n",
    "from langchain.vectorstores import Chroma"
   ]
  },
  {
   "cell_type": "code",
   "execution_count": 7,
   "id": "e2a8eea0-4962-45de-a060-85ec902e8cba",
   "metadata": {
    "execution": {
     "iopub.execute_input": "2023-05-06T16:55:41.974885Z",
     "iopub.status.busy": "2023-05-06T16:55:41.971800Z",
     "iopub.status.idle": "2023-05-06T16:55:42.037027Z",
     "shell.execute_reply": "2023-05-06T16:55:42.035868Z",
     "shell.execute_reply.started": "2023-05-06T16:55:41.974856Z"
    },
    "tags": []
   },
   "outputs": [
    {
     "name": "stderr",
     "output_type": "stream",
     "text": [
      "/home/jovyan/workspace/seria/src/seria/utils/text_preprocessor.py:73: MarkupResemblesLocatorWarning: The input looks more like a filename than markup. You may want to open this file and pass the filehandle into Beautiful Soup.\n",
      "  soup = BeautifulSoup(text, \"html.parser\")\n",
      "Using embedded DuckDB with persistence: data will be stored in: /home/jovyan/workspace/seria/db\n"
     ]
    }
   ],
   "source": [
    "# Get the absolute path of the directory containing the script\n",
    "script_dir = os.path.dirname(os.path.abspath(__file__))\n",
    "# Construct a file path relative to the script's directory\n",
    "data_file = os.path.join(script_dir, 'data', 'interim',\n",
    "                         'blogs.json')\n",
    "# Load the data from a json file\n",
    "with open(data_file, 'r') as f:\n",
    "    data = json.load(f)\n",
    "# Grab just the blog posts data in a 2d array\n",
    "posts = [post for post in data['blog'].values()]\n",
    "\n",
    "preprocessor = TextPreprocessor()\n",
    "text_splitter = TokenTextSplitter(chunk_size=6500)  \n",
    "embedder = OpenAIEmbeddings()\n",
    "\n",
    "processed_texts = [preprocessor.preprocess(text) for text in posts]\n",
    "docs = text_splitter.create_documents(processed_texts)\n",
    "docs = text_splitter.split_documents(docs)\n",
    "\n",
    "persist_dir = os.path.join(script_dir, 'db')\n",
    "db = Chroma.from_documents(documents=docs,\n",
    "                           embedding=embedder,\n",
    "                           persist_directory=persist_dir)\n",
    "db.persist()"
   ]
  },
  {
   "cell_type": "code",
   "execution_count": null,
   "id": "febb6e0d-59ff-4658-8e66-a02c98222658",
   "metadata": {},
   "outputs": [],
   "source": []
  }
 ],
 "metadata": {
  "kernelspec": {
   "display_name": "saturn (Python 3)",
   "language": "python",
   "name": "python3"
  },
  "language_info": {
   "codemirror_mode": {
    "name": "ipython",
    "version": 3
   },
   "file_extension": ".py",
   "mimetype": "text/x-python",
   "name": "python",
   "nbconvert_exporter": "python",
   "pygments_lexer": "ipython3",
   "version": "3.9.15"
  }
 },
 "nbformat": 4,
 "nbformat_minor": 5
}
