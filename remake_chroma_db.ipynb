{
 "cells": [
  {
   "cell_type": "code",
   "execution_count": 2,
   "id": "6f8c0ae1-f974-46f3-ae88-8718bcc73230",
   "metadata": {
    "execution": {
     "iopub.execute_input": "2023-05-09T01:33:55.248188Z",
     "iopub.status.busy": "2023-05-09T01:33:55.247786Z",
     "iopub.status.idle": "2023-05-09T01:33:56.958567Z",
     "shell.execute_reply": "2023-05-09T01:33:56.957874Z",
     "shell.execute_reply.started": "2023-05-09T01:33:55.248154Z"
    },
    "tags": []
   },
   "outputs": [],
   "source": [
    "import os\n",
    "import json\n",
    "import pandas as pd\n",
    "from landy.utils.text_preprocessor import TextPreprocessor\n",
    "from langchain.embeddings.openai import OpenAIEmbeddings\n",
    "from langchain.text_splitter import TokenTextSplitter\n",
    "from langchain.vectorstores import Chroma"
   ]
  },
  {
   "cell_type": "code",
   "execution_count": 4,
   "id": "07cb49cb-28d6-4c77-8e10-9af38f85ed7e",
   "metadata": {
    "execution": {
     "iopub.execute_input": "2023-05-09T01:35:01.620492Z",
     "iopub.status.busy": "2023-05-09T01:35:01.619969Z",
     "iopub.status.idle": "2023-05-09T01:35:01.626428Z",
     "shell.execute_reply": "2023-05-09T01:35:01.625574Z",
     "shell.execute_reply.started": "2023-05-09T01:35:01.620463Z"
    },
    "tags": []
   },
   "outputs": [],
   "source": [
    "# data = [\n",
    "#     \"\"\"\n",
    "#     On whether or not this is a good game...\n",
    "    \n",
    "#     DFO is a game with a lot of history, thus, it has a lot of quirks and a massive backlog of content for new and old players to enjoy. There are a variety different things to do, but they primarily revolve around PvE content like raids, weekly, and daily dungeons, and less so PvP content. PvP is available, but due to the P2P nature of DFOG, it can make things very difficult, so most players avoid it. It's age means that the game is very well balanced in a lot of areas, and once you catch your stride it can be a game you enjoy for a very long time but also be very overwhelming for people without a guide. The community is also thriving, and there are many people dedicated to helping new and returning players navigate the game. \n",
    "\n",
    "#     TLDR: DFO is a very high quality game with a lot of love and money put in to it, so you should come play!\n",
    "#     \"\"\",\n",
    "#     \"\"\"\n",
    "#     On whether or not this game is pay to win (aka P2W)...\n",
    "\n",
    "#     DFOG is Pay to Progress. There are most things in game you can purchase with in game currency, with varying degrees of time investment, however, paying with Cera (Paid Currency) will vastly hasten this process. Example: a Advanced Clone avatar set will typically be around 6 million gold. This takes about 2-3 hours to earn depending on how you do it, and you must purchase it from another player or buy it via the Event shop for the same price. You can also pay 10$ for the item by itself, or 30-45$ for this item to come in a package with other items that may be of high value, and Advanced Clones are seen as mandatory to enter most content as a baseline. You'll find similar instances of this happening with other items such as Auras, Pets, and Titles. These items give direct damage benefits and can be attained in game only via trading if you're fully free to play. You also have a monthly paid subscription-like service called Neo: Premium which provides more Fatigue Points to let you play for longer. \n",
    "\n",
    "#     TLDR: DFOG leans more towards Pay to Play, with options for most players to attain items via in game trading. \n",
    "#     \"\"\",\n",
    "#     \"\"\"\n",
    "#     On farming gold...\n",
    "\n",
    "#     You can make gold by going and farming Canyon Hills on the highest difficulty you can do comfortably (1:30s-2:00m) and selling all Uncommon equipment, and dissing all Common-Unique equipment. Doing this allows you to then either sell the Clear Cube Fragments on the Auction Hall, or hoard them for later use. You also gain Beryl, Golden Beryl, Ryan Cores, Harmonious Crystals, and a chance at Legendary cards from the purple card flip at the end of the dungeon, as well as Ustable Rifts for additional materials. You can also sell Golden Beryl you obtain from doing Advanced Dungeons for a fair price. Be sure to keep any Dark Fragmented Abyss pieces! They are labeled as Unique grade and very useful for minmaxing at the top end. You can also use Advanced Dungeon materials every week to buy 4x Card Albums sold by Meryl Pioneer and Meister Curio and sell the resulting cards. \n",
    "\n",
    "#     TLDR: Farm Canyon Hills, sell Uncommon equipment, diss all else, sell clear cubes to the Auction Hall, or sell Golden Beryl. Or $$$ and merch.\n",
    "#     \"\"\",\n",
    "#     \"\"\"\n",
    "#     On getting or increasing your fame (aka fp, fame points)...\n",
    "\n",
    "#     Every item you have, has fame on it. Thus, upgrading those items either by getting stronger ones (eg: going from 30 elemental enchant to 35) or improving your armor/accs/wep/sub equipments via fusing will increase your fame. The best way to do this is to simply upgrade your items via fusing, getting better enchants, emblems, runes, and talismans, or by reinforcing/amping. There is no 1 stop shop to the exact rout, as there are many variables to increasing your fame (aka, getting stronger) and it will vary depending on your current progression in the game. It's much easier to get fame as someone who is 19k fame, versus someone who is 43k fame. The higher fame you are, the more difficult it will be to obtain. \n",
    "#     \"\"\"\n",
    "# ]\n",
    "# # Make new df\n",
    "# new = pd.DataFrame(data, columns=['blog'])\n",
    "# # Add a date col\n",
    "# new['date'] = '2023-05-03'\n",
    "# # Load old\n",
    "# old_fp = 'data/interim/blogs.json'\n",
    "# old = pd.read_json(old_fp)\n",
    "# # old old manually inserted\n",
    "# old = old[old.date != '2023-05-03']\n",
    "# # Manually insert new\n",
    "# df = pd.concat([old,new]).reset_index(drop=True)\n",
    "# # Save\n",
    "# df.to_json(old_fp)"
   ]
  },
  {
   "cell_type": "code",
   "execution_count": 3,
   "id": "e2a8eea0-4962-45de-a060-85ec902e8cba",
   "metadata": {
    "execution": {
     "iopub.execute_input": "2023-05-09T01:33:59.636007Z",
     "iopub.status.busy": "2023-05-09T01:33:59.635507Z",
     "iopub.status.idle": "2023-05-09T01:34:15.108991Z",
     "shell.execute_reply": "2023-05-09T01:34:15.108207Z",
     "shell.execute_reply.started": "2023-05-09T01:33:59.635980Z"
    },
    "tags": []
   },
   "outputs": [
    {
     "name": "stderr",
     "output_type": "stream",
     "text": [
      "/home/jovyan/workspace/landy/landy/utils/text_preprocessor.py:73: MarkupResemblesLocatorWarning: The input looks more like a filename than markup. You may want to open this file and pass the filehandle into Beautiful Soup.\n",
      "  soup = BeautifulSoup(text, \"html.parser\")\n",
      "Using embedded DuckDB with persistence: data will be stored in: /home/jovyan/workspace/landy/db\n"
     ]
    }
   ],
   "source": [
    "# Get the absolute path of the directory containing the script\n",
    "script_dir = os.path.dirname(os.path.abspath('__main__'))\n",
    "# Construct a file path relative to the script's directory\n",
    "data_file = os.path.join(script_dir, 'data', 'interim',\n",
    "                         'blogs.json')\n",
    "# Load the data from a json file\n",
    "with open(data_file, 'r') as f:\n",
    "    data = json.load(f)\n",
    "# Grab just the blog posts data in a 2d array\n",
    "posts = [post for post in data['blog'].values()]\n",
    "\n",
    "preprocessor = TextPreprocessor()\n",
    "text_splitter = TokenTextSplitter(chunk_size=6500)  \n",
    "embedder = OpenAIEmbeddings()\n",
    "\n",
    "processed_texts = [preprocessor.preprocess(text) for text in posts]\n",
    "docs = text_splitter.create_documents(processed_texts)\n",
    "docs = text_splitter.split_documents(docs)\n",
    "\n",
    "persist_dir = os.path.join(script_dir, 'db')\n",
    "db = Chroma.from_documents(documents=docs,\n",
    "                           embedding=embedder,\n",
    "                           persist_directory=persist_dir)\n",
    "db.persist()"
   ]
  },
  {
   "cell_type": "code",
   "execution_count": null,
   "id": "febb6e0d-59ff-4658-8e66-a02c98222658",
   "metadata": {},
   "outputs": [],
   "source": []
  }
 ],
 "metadata": {
  "kernelspec": {
   "display_name": "saturn (Python 3)",
   "language": "python",
   "name": "python3"
  },
  "language_info": {
   "codemirror_mode": {
    "name": "ipython",
    "version": 3
   },
   "file_extension": ".py",
   "mimetype": "text/x-python",
   "name": "python",
   "nbconvert_exporter": "python",
   "pygments_lexer": "ipython3",
   "version": "3.9.15"
  }
 },
 "nbformat": 4,
 "nbformat_minor": 5
}
