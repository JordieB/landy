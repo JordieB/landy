{
 "cells": [
  {
   "cell_type": "code",
   "execution_count": 34,
   "metadata": {},
   "outputs": [],
   "source": [
    "import pandas as pd\n",
    "import numpy as np\n",
    "import ast"
   ]
  },
  {
   "attachments": {},
   "cell_type": "markdown",
   "metadata": {},
   "source": [
    "## Create dated blogs"
   ]
  },
  {
   "cell_type": "code",
   "execution_count": 35,
   "metadata": {},
   "outputs": [],
   "source": [
    "data_dir = '../../data/'\n",
    "old_fn = 'input_blogs.json'\n",
    "df = pd.read_json(data_dir + old_fn)\n",
    "df['metadata'] = df['metadata'].apply(lambda x: x if ('ogp' not in x) & ('date' in x) else np.nan)\n",
    "df['date'] = df['metadata'].apply(lambda x: x['date'] if pd.notnull(x) else np.nan)\n",
    "_ = df['metadata'].notnull()\n",
    "df = df[_].reset_index(drop=True)\n",
    "df['blog'] = df['date'] + ': ' + df['blog']\n",
    "df = df.drop(columns=['url','text','metadata'])\n",
    "df.to_json(data_dir + 'dated_blogs.json')"
   ]
  },
  {
   "attachments": {},
   "cell_type": "markdown",
   "metadata": {},
   "source": [
    "## Append JSONs together"
   ]
  },
  {
   "cell_type": "code",
   "execution_count": 36,
   "metadata": {},
   "outputs": [],
   "source": [
    "old_fp = '../../data/input_blogs.json'\n",
    "new_fp = 'results.json'\n",
    "\n",
    "one = pd.read_json(old_fp)\n",
    "two = pd.read_json(new_fp)\n",
    "df = pd.concat([one,two]).reset_index(drop=True)\n",
    "df.to_json(old_fp)"
   ]
  },
  {
   "cell_type": "code",
   "execution_count": null,
   "metadata": {},
   "outputs": [],
   "source": []
  }
 ],
 "metadata": {
  "kernelspec": {
   "display_name": "Python 3",
   "language": "python",
   "name": "python3"
  },
  "language_info": {
   "codemirror_mode": {
    "name": "ipython",
    "version": 3
   },
   "file_extension": ".py",
   "mimetype": "text/x-python",
   "name": "python",
   "nbconvert_exporter": "python",
   "pygments_lexer": "ipython3",
   "version": "3.10.6"
  },
  "orig_nbformat": 4
 },
 "nbformat": 4,
 "nbformat_minor": 2
}
