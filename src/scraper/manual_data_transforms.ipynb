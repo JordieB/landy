{
 "cells": [
  {
   "cell_type": "code",
   "execution_count": 2,
   "metadata": {
    "execution": {
     "iopub.execute_input": "2023-05-06T02:40:44.075382Z",
     "iopub.status.busy": "2023-05-06T02:40:44.074862Z",
     "iopub.status.idle": "2023-05-06T02:40:44.376841Z",
     "shell.execute_reply": "2023-05-06T02:40:44.376163Z",
     "shell.execute_reply.started": "2023-05-06T02:40:44.075330Z"
    }
   },
   "outputs": [],
   "source": [
    "import pandas as pd\n",
    "import numpy as np\n",
    "import json"
   ]
  },
  {
   "cell_type": "markdown",
   "metadata": {},
   "source": [
    "## Create dated blogs"
   ]
  },
  {
   "cell_type": "code",
   "execution_count": 5,
   "metadata": {},
   "outputs": [],
   "source": [
    "# data_dir = '../../data/raw/'\n",
    "# old_fn = 'input_blogs.json'\n",
    "# df = pd.read_json(data_dir + old_fn)\n",
    "# df['metadata'] = df['metadata'].apply(lambda x: x if ('ogp' not in x) & ('date' in x) else np.nan)\n",
    "# df['date'] = df['metadata'].apply(lambda x: x['date'] if pd.notnull(x) else np.nan)\n",
    "# _ = df['metadata'].notnull()\n",
    "# df = df[_].reset_index(drop=True)\n",
    "# # df['blog'] = df['date'] + ': ' + df['blog']\n",
    "# df = df.drop(columns=['url','text','metadata'])\n",
    "# df.to_json(data_dir + 'dated_blogs.json')"
   ]
  },
  {
   "cell_type": "markdown",
   "metadata": {},
   "source": [
    "## Append JSONs together"
   ]
  },
  {
   "cell_type": "code",
   "execution_count": 15,
   "metadata": {
    "execution": {
     "iopub.execute_input": "2023-05-06T02:44:47.290322Z",
     "iopub.status.busy": "2023-05-06T02:44:47.289937Z",
     "iopub.status.idle": "2023-05-06T02:44:47.333762Z",
     "shell.execute_reply": "2023-05-06T02:44:47.332946Z",
     "shell.execute_reply.started": "2023-05-06T02:44:47.290294Z"
    },
    "tags": []
   },
   "outputs": [],
   "source": [
    "data = [\n",
    "    \"\"\"\n",
    "    Q: Is DFO a good game?\n",
    "\n",
    "    A: DFO is a game with a lot of history, thus, it has a lot of quirks and a massive backlog of content for new and old players to enjoy. There are a variety different things to do, but they primarily revolve around PvE content like raids, weekly, and daily dungeons, and less so PvP content. PvP is available, but due to the P2P nature of DFOG, it can make things very difficult, so most players avoid it. It's age means that the game is very well balanced in a lot of areas, and once you catch your stride it can be a game you enjoy for a very long time but also be very overwhelming for people without a guide. The community is also thriving, and there are many people dedicated to helping new and returning players navigate the game. \n",
    "\n",
    "    TLDR: DFO is a very high quality game with a lot of love and money put in to it, so you should come play!\n",
    "    \"\"\",\n",
    "    \"\"\"\n",
    "    Q: Is DFOG P2W?\n",
    "\n",
    "    A: DFOG is Pay to Progress. There are most things in game you can purchase with in game currency, with varying degrees of time investment, however, paying with Cera (Paid Currency) will vastly hasten this process. Example: a Advanced Clone avatar set will typically be around 6 million gold. This takes about 2-3 hours to earn depending on how you do it, and you must purchase it from another player or buy it via the Event shop for the same price. You can also pay 10$ for the item by itself, or 30-45$ for this item to come in a package with other items that may be of high value, and Advanced Clones are seen as mandatory to enter most content as a baseline. You'll find similar instances of this happening with other items such as Auras, Pets, and Titles. These items give direct damage benefits and can be attained in game only via trading if you're fully free to play. You also have a monthly paid subscription-like service called Neo: Premium which provides more Fatigue Points to let you play for longer. \n",
    "\n",
    "    TLDR: DFOG leans more towards Pay to Play, with options for most players to attain items via in game trading. \n",
    "    \"\"\",\n",
    "    \"\"\"\n",
    "    Q: How do I farm gold in DFOG?\n",
    "\n",
    "    A: You can make gold by going and farming Canyon Hills on the highest difficulty you can do comfortably (1:30s-2:00m) and selling all Uncommon equipment, and dissing all Common-Unique equipment. Doing this allows you to then either sell the Clear Cube Fragments on the Auction Hall, or hoard them for later use. You also gain Beryl, Golden Beryl, Ryan Cores, Harmonious Crystals, and a chance at Legendary cards from the purple card flip at the end of the dungeon, as well as Ustable Rifts for additional materials. You can also sell Golden Beryl you obtain from doing Advanced Dungeons for a fair price. Be sure to keep any Dark Fragmented Abyss pieces! They are labeled as Unique grade and very useful for minmaxing at the top end. You can also use Advanced Dungeon materials every week to buy 4x Card Albums sold by Meryl Pioneer and Meister Curio and sell the resulting cards. \n",
    "\n",
    "    TLDR: Farm Canyon Hills, sell Uncommon equipment, diss all else, sell clear cubes to the Auction Hall, or sell Golden Beryl. Or $$$ and merch.\n",
    "    \"\"\",\n",
    "    \"\"\"\n",
    "    Q: How do I get more fame in DFOG?\n",
    "\n",
    "    A: Every item you have, has fame on it. Thus, upgrading those items either by getting stronger ones (eg: going from 30 elemental enchant to 35) or improving your armor/accs/wep/sub equipments via fusing will increase your fame. The best way to do this is to simply upgrade your items via fusing, getting better enchants, emblems, runes, and talismans, or by reinforcing/amping. There is no 1 stop shop to the exact rout, as there are many variables to increasing your fame (aka, getting stronger) and it will vary depending on your current progression in the game. It's much easier to get fame as someone who is 19k fame, versus someone who is 43k fame. The higher fame you are, the more difficult it will be to obtain. \n",
    "\n",
    "    TLDR: ~~Get Gud~~. Work on your equipment to upgrade it over time.\n",
    "    \"\"\"\n",
    "]\n",
    "new = pd.DataFrame(data, columns=['blog'])\n",
    "new['date'] = '2023-05-03'\n",
    "old_fp = '../../data/interim/blogs.json'\n",
    "old = pd.read_json(old_fp)\n",
    "\n",
    "df = pd.concat([old,new]).reset_index(drop=True)\n",
    "\n",
    "df.to_json(old_fp)"
   ]
  },
  {
   "cell_type": "code",
   "execution_count": 36,
   "metadata": {},
   "outputs": [],
   "source": [
    "old_fp = '../../data/input_blogs.json'\n",
    "new_fp = 'results.json'\n",
    "\n",
    "one = pd.read_json(old_fp)\n",
    "two = pd.read_json(new_fp)\n",
    "df = pd.concat([one,two]).reset_index(drop=True)\n",
    "df.to_json(old_fp)"
   ]
  },
  {
   "cell_type": "code",
   "execution_count": 6,
   "metadata": {},
   "outputs": [],
   "source": [
    "# # Load the data from a json file\n",
    "# data_file = '../../data/input_blogs.json'\n",
    "# with open(data_file, 'r') as f:\n",
    "#     data = json.load(f)\n",
    "# # Grab just the blog posts data in a 2d array\n",
    "# posts = [post for post in data['blog'].values()]\n",
    "# posts"
   ]
  },
  {
   "cell_type": "code",
   "execution_count": null,
   "metadata": {},
   "outputs": [],
   "source": []
  }
 ],
 "metadata": {
  "kernelspec": {
   "display_name": "saturn (Python 3)",
   "language": "python",
   "name": "python3"
  },
  "language_info": {
   "codemirror_mode": {
    "name": "ipython",
    "version": 3
   },
   "file_extension": ".py",
   "mimetype": "text/x-python",
   "name": "python",
   "nbconvert_exporter": "python",
   "pygments_lexer": "ipython3",
   "version": "3.9.15"
  }
 },
 "nbformat": 4,
 "nbformat_minor": 4
}
